{
 "cells": [
  {
   "cell_type": "code",
   "execution_count": null,
   "id": "9bde1fdb-9780-4eea-bf1b-66ed8ee9b8f0",
   "metadata": {},
   "outputs": [],
   "source": [
    "# Core scverse libraries\n",
    "import scanpy as sc\n",
    "import anndata as ad\n",
    "import numpy as np\n",
    "\n",
    "import matplotlib\n",
    "import matplotlib.pyplot as plt\n",
    "import pandas as pd\n",
    "\n",
    "# Set seed\n",
    "import random\n",
    "random.seed(1)\n",
    "\n",
    "# PROGENy\n",
    "import decoupler as dc"
   ]
  },
  {
   "cell_type": "code",
   "execution_count": null,
   "id": "b0903ff9-04d1-41bf-99fb-d46951da792c",
   "metadata": {},
   "outputs": [],
   "source": [
    "# Figure settings and figure directory \n",
    "sc.settings.set_figure_params(dpi=250, facecolor=\"white\", figsize = (12, 12))\n",
    "sc.settings.figdir = 'YOUR_PATH_HERE'"
   ]
  },
  {
   "cell_type": "code",
   "execution_count": null,
   "id": "05ea9c88-887d-4623-ad75-cb659997fbf4",
   "metadata": {},
   "outputs": [],
   "source": [
    "# Load in the Anndata object\n",
    "adata = sc.read_h5ad('YOUR_PATH_HERE')\n",
    "adata"
   ]
  },
  {
   "cell_type": "code",
   "execution_count": null,
   "id": "428ce255-a19b-4db5-98d5-0fa1abf904c3",
   "metadata": {},
   "outputs": [],
   "source": [
    "# Generate PROGENy Scores\n",
    "test_obj = adata\n",
    "\n",
    "# Load the PROGENy pathway-gene interaction network\n",
    "progeny = dc.get_progeny(organism='human', top=500)\n",
    "progeny\n",
    "\n",
    "# Run a multivariate linear model (MLM) to estimate pathway activity\n",
    "dc.run_mlm(\n",
    "    mat=test_obj,\n",
    "    net=progeny,\n",
    "    source='source',\n",
    "    target='target',\n",
    "    weight='weight',\n",
    "    verbose=True,\n",
    "    use_raw=False\n",
    ")\n",
    "\n",
    "test_obj.obsm['mlm_estimate']\n",
    "\n",
    "test_obj.obsm['progeny_mlm_estimate'] = test_obj.obsm['mlm_estimate'].copy()\n",
    "test_obj.obsm['progeny_mlm_pvals'] = test_obj.obsm['mlm_pvals'].copy()\n",
    "test_obj\n",
    "\n",
    "# Convert MLM results into a tidy DataFrame format for plotting or analysis\n",
    "acts = dc.get_acts(test_obj, obsm_key='mlm_estimate')\n",
    "acts"
   ]
  },
  {
   "cell_type": "code",
   "execution_count": null,
   "id": "ff29d231-7ff6-410c-b23a-93f67263ac98",
   "metadata": {},
   "outputs": [],
   "source": [
    "#Standard_scale \"var\" sets the original progeny scores between 0 and 1 to highlight the differences better\n",
    "sc.pl.matrixplot(acts, var_names=[\"PI3K\",\"WNT\",\"p53\",\"Trail\",\"EGFR\",\"TNFa\",\"Estrogen\",\"Androgen\",\"MAPK\",\"Hypoxia\",\"VEGF\",\"JAK-STAT\",\"NFkB\",\"TGFb\"], groupby= 'RESOLUTION', dendrogram=False, standard_scale='var',\n",
    "                 colorbar_title='Z-scaled scores', cmap='RdBu_r', swap_axes=True)"
   ]
  }
 ],
 "metadata": {
  "kernelspec": {
   "display_name": "Python 3 (ipykernel)",
   "language": "python",
   "name": "python3"
  },
  "language_info": {
   "codemirror_mode": {
    "name": "ipython",
    "version": 3
   },
   "file_extension": ".py",
   "mimetype": "text/x-python",
   "name": "python",
   "nbconvert_exporter": "python",
   "pygments_lexer": "ipython3",
   "version": "3.9.18"
  }
 },
 "nbformat": 4,
 "nbformat_minor": 5
}
